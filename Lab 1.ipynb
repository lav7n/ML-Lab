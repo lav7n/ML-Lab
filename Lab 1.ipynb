{
 "cells": [
  {
   "cell_type": "markdown",
   "id": "94f501b5",
   "metadata": {},
   "source": [
    "# Q1"
   ]
  },
  {
   "cell_type": "code",
   "execution_count": 1,
   "id": "e65bff90",
   "metadata": {},
   "outputs": [
    {
     "data": {
      "text/plain": [
       "array([[0, 1, 2],\n",
       "       [3, 4, 5],\n",
       "       [6, 7, 8]])"
      ]
     },
     "execution_count": 1,
     "metadata": {},
     "output_type": "execute_result"
    }
   ],
   "source": [
    "import numpy as np \n",
    "a = np.array([0, 1, 2, 3, 4, 5, 6, 7, 8])\n",
    "np.reshape(a, [3,3])"
   ]
  },
  {
   "cell_type": "markdown",
   "id": "23795d65",
   "metadata": {},
   "source": [
    "# Q2"
   ]
  },
  {
   "cell_type": "code",
   "execution_count": 22,
   "id": "d3f3b628",
   "metadata": {},
   "outputs": [],
   "source": [
    "a = np.array([0, 1, 2, 3, 4, 5, 6, 7, 8, 9])\n",
    "cond = a % 2 != 0\n",
    "a[cond] = -1"
   ]
  },
  {
   "cell_type": "markdown",
   "id": "9329f11d",
   "metadata": {},
   "source": [
    "# Q3"
   ]
  },
  {
   "cell_type": "code",
   "execution_count": 23,
   "id": "a506db87",
   "metadata": {},
   "outputs": [
    {
     "data": {
      "text/plain": [
       "array([1, 2, 4, 5, 6, 7, 8, 9])"
      ]
     },
     "execution_count": 23,
     "metadata": {},
     "output_type": "execute_result"
    }
   ],
   "source": [
    "x = np.array([21, 64, 86, 22, 74, 55, 81, 79, 90, 89])\n",
    "y = np.array([21, 7, 3, 45, 10, 29, 55, 4, 37, 18])\n",
    "\n",
    "greater = np.where(x > y)[0]\n",
    "equal = np.where(x == y)[0]\n",
    "greater"
   ]
  },
  {
   "cell_type": "markdown",
   "id": "4a8893a5",
   "metadata": {},
   "source": [
    "# Q4"
   ]
  },
  {
   "cell_type": "code",
   "execution_count": 11,
   "id": "244646a1",
   "metadata": {},
   "outputs": [
    {
     "data": {
      "text/plain": [
       "array([[ 0,  1,  2,  3],\n",
       "       [20, 21, 22, 23],\n",
       "       [40, 41, 42, 43],\n",
       "       [60, 61, 62, 63],\n",
       "       [80, 81, 82, 83]])"
      ]
     },
     "execution_count": 11,
     "metadata": {},
     "output_type": "execute_result"
    }
   ],
   "source": [
    "a = np.arange(100).reshape(5,-1)\n",
    "arr = a[:,:4]"
   ]
  },
  {
   "cell_type": "markdown",
   "id": "52972d42",
   "metadata": {},
   "source": [
    "# Additional"
   ]
  },
  {
   "cell_type": "code",
   "execution_count": 25,
   "id": "37ca16e8",
   "metadata": {},
   "outputs": [
    {
     "data": {
      "text/plain": [
       "array([34, 32, 34, 39, 30, 38, 39, 33, 35, 31])"
      ]
     },
     "execution_count": 25,
     "metadata": {},
     "output_type": "execute_result"
    }
   ],
   "source": [
    "np.random.randint(low=30, high=40, size=10)"
   ]
  },
  {
   "cell_type": "code",
   "execution_count": 35,
   "id": "176a818a",
   "metadata": {},
   "outputs": [],
   "source": [
    "A = np.array([[1, 2, 3], [4, 5, 6], [7, 8, 10]])\n",
    "B = np.array([[7, 8, 10], [4, 5, 6], [1, 2, 3]])\n",
    "\n",
    "C = A + B\n",
    "E = A - B"
   ]
  },
  {
   "cell_type": "code",
   "execution_count": 45,
   "id": "dcee6ba5",
   "metadata": {},
   "outputs": [
    {
     "data": {
      "text/plain": [
       "array([[ 8, 10, 12],\n",
       "       [ 8, 10, 13],\n",
       "       [ 8, 10, 13]])"
      ]
     },
     "execution_count": 45,
     "metadata": {},
     "output_type": "execute_result"
    }
   ],
   "source": [
    "C_trans"
   ]
  },
  {
   "cell_type": "code",
   "execution_count": 48,
   "id": "5e6131af",
   "metadata": {},
   "outputs": [
    {
     "data": {
      "text/plain": [
       "array([31, 30, 31])"
      ]
     },
     "execution_count": 48,
     "metadata": {},
     "output_type": "execute_result"
    }
   ],
   "source": [
    "sumrowC"
   ]
  },
  {
   "cell_type": "code",
   "execution_count": 36,
   "id": "f8b3a251",
   "metadata": {},
   "outputs": [],
   "source": [
    "sumA = np.sum(A)\n",
    "sumcolB = np.sum(B, axis=0)\n",
    "sumrowC = np.sum(C, axis=1)"
   ]
  },
  {
   "cell_type": "code",
   "execution_count": 37,
   "id": "d3a427c1",
   "metadata": {},
   "outputs": [],
   "source": [
    "D = np.dot(A, B)"
   ]
  },
  {
   "cell_type": "code",
   "execution_count": 38,
   "id": "9c69e36c",
   "metadata": {},
   "outputs": [],
   "source": [
    "C_sort = np.sort(C.flatten()).reshape(C.shape)"
   ]
  },
  {
   "cell_type": "code",
   "execution_count": 44,
   "id": "149b20cb",
   "metadata": {},
   "outputs": [],
   "source": [
    "C_trans = C_sort.T"
   ]
  },
  {
   "cell_type": "code",
   "execution_count": null,
   "id": "37ef431f",
   "metadata": {},
   "outputs": [],
   "source": []
  }
 ],
 "metadata": {
  "kernelspec": {
   "display_name": "Python 3 (ipykernel)",
   "language": "python",
   "name": "python3"
  },
  "language_info": {
   "codemirror_mode": {
    "name": "ipython",
    "version": 3
   },
   "file_extension": ".py",
   "mimetype": "text/x-python",
   "name": "python",
   "nbconvert_exporter": "python",
   "pygments_lexer": "ipython3",
   "version": "3.12.3"
  }
 },
 "nbformat": 4,
 "nbformat_minor": 5
}
