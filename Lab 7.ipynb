{
 "cells": [
  {
   "cell_type": "markdown",
   "id": "a8e80e46",
   "metadata": {},
   "source": [
    "# Q1A"
   ]
  },
  {
   "cell_type": "code",
   "execution_count": 2,
   "id": "ad3eb6fc",
   "metadata": {},
   "outputs": [
    {
     "data": {
      "text/plain": [
       "0.6923076923076923"
      ]
     },
     "execution_count": 2,
     "metadata": {},
     "output_type": "execute_result"
    }
   ],
   "source": [
    "hs = 0.6\n",
    "ds = 0.4\n",
    "A_hs = 0.3\n",
    "A_ds = 0.2\n",
    "\n",
    "#P(hs) ? given A grade\n",
    "#hs_A = A_hs * hs / TP\n",
    "\n",
    "hs_A = (A_hs * hs) / (A_hs*hs + A_ds*ds)\n",
    "hs_A"
   ]
  },
  {
   "cell_type": "markdown",
   "id": "804815e1",
   "metadata": {},
   "source": [
    "# Q1B"
   ]
  },
  {
   "cell_type": "code",
   "execution_count": 5,
   "id": "0ccab37a",
   "metadata": {},
   "outputs": [
    {
     "data": {
      "text/plain": [
       "0.3333333333333333"
      ]
     },
     "execution_count": 5,
     "metadata": {},
     "output_type": "execute_result"
    }
   ],
   "source": [
    "dis = 0.01\n",
    "tp = 0.99\n",
    "fp = 0.02\n",
    "#P(tp?)\n",
    "\n",
    "ans = dis*tp / (dis*tp + (1-dis)*fp)\n",
    "ans"
   ]
  },
  {
   "cell_type": "markdown",
   "id": "e8e28dda",
   "metadata": {},
   "source": [
    "# Q2"
   ]
  },
  {
   "cell_type": "code",
   "execution_count": 2,
   "id": "9db87cdf",
   "metadata": {},
   "outputs": [
    {
     "name": "stdout",
     "output_type": "stream",
     "text": [
      "Prediction for test data: yes\n"
     ]
    }
   ],
   "source": [
    "import pandas as pd\n",
    "\n",
    "# Sample dataset from the image\n",
    "data = {\n",
    "    'age': ['<=30', '<=30', '31...40', '>40', '>40', '>40', '31...40', '<=30', '<=30', '>40', '<=30', '31...40', '31...40', '>40'],\n",
    "    'income': ['high', 'high', 'high', 'medium', 'low', 'low', 'low', 'medium', 'low', 'medium', 'medium', 'medium', 'high', 'medium'],\n",
    "    'student': ['no', 'no', 'no', 'no', 'yes', 'yes', 'yes', 'no', 'yes', 'yes', 'yes', 'no', 'yes', 'no'],\n",
    "    'credit_rating': ['fair', 'excellent', 'fair', 'fair', 'fair', 'excellent', 'excellent', 'fair', 'fair', 'fair', 'excellent', 'excellent', 'fair', 'excellent'],\n",
    "    'buys_computer': ['no', 'no', 'yes', 'yes', 'yes', 'no', 'yes', 'no', 'yes', 'yes', 'yes', 'yes', 'yes', 'no']\n",
    "}\n",
    "\n",
    "# Convert data to a pandas DataFrame\n",
    "df = pd.DataFrame(data)\n",
    "\n",
    "# Simplified Naive Bayes function for a single prediction\n",
    "def naive_bayes_predict(test_example):\n",
    "    # Calculate prior probabilities\n",
    "    total = len(df)\n",
    "    yes_count = len(df[df['buys_computer'] == 'yes'])\n",
    "    no_count = len(df[df['buys_computer'] == 'no'])\n",
    "    \n",
    "    P_yes = yes_count / total\n",
    "    P_no = no_count / total\n",
    "\n",
    "    # Calculate likelihoods for each feature given class 'yes'\n",
    "    P_age_yes = len(df[(df['age'] == test_example['age']) & (df['buys_computer'] == 'yes')]) / yes_count\n",
    "    P_income_yes = len(df[(df['income'] == test_example['income']) & (df['buys_computer'] == 'yes')]) / yes_count\n",
    "    P_student_yes = len(df[(df['student'] == test_example['student']) & (df['buys_computer'] == 'yes')]) / yes_count\n",
    "    P_credit_yes = len(df[(df['credit_rating'] == test_example['credit_rating']) & (df['buys_computer'] == 'yes')]) / yes_count\n",
    "\n",
    "    # Calculate likelihoods for each feature given class 'no'\n",
    "    P_age_no = len(df[(df['age'] == test_example['age']) & (df['buys_computer'] == 'no')]) / no_count\n",
    "    P_income_no = len(df[(df['income'] == test_example['income']) & (df['buys_computer'] == 'no')]) / no_count\n",
    "    P_student_no = len(df[(df['student'] == test_example['student']) & (df['buys_computer'] == 'no')]) / no_count\n",
    "    P_credit_no = len(df[(df['credit_rating'] == test_example['credit_rating']) & (df['buys_computer'] == 'no')]) / no_count\n",
    "\n",
    "    # Calculate posterior probabilities for 'yes' and 'no'\n",
    "    P_yes_given_features = P_yes * P_age_yes * P_income_yes * P_student_yes * P_credit_yes\n",
    "    P_no_given_features = P_no * P_age_no * P_income_no * P_student_no * P_credit_no\n",
    "\n",
    "    # Predict the class with the higher posterior probability\n",
    "    if P_yes_given_features > P_no_given_features:\n",
    "        return \"yes\"\n",
    "    else:\n",
    "        return \"no\"\n",
    "\n",
    "# Test example to predict\n",
    "test_example = {\n",
    "    'age': '<=30',\n",
    "    'income': 'medium',\n",
    "    'student': 'yes',\n",
    "    'credit_rating': 'fair'\n",
    "}\n",
    "\n",
    "# Prediction\n",
    "prediction = naive_bayes_predict(test_example)\n",
    "print(\"Prediction for test data:\", prediction)\n"
   ]
  },
  {
   "cell_type": "markdown",
   "id": "d5d35b63",
   "metadata": {},
   "source": [
    "# Q3"
   ]
  },
  {
   "cell_type": "code",
   "execution_count": 5,
   "id": "8c8e46e2",
   "metadata": {},
   "outputs": [
    {
     "name": "stdout",
     "output_type": "stream",
     "text": [
      "P(Not sports|Text): 0.000925925925925926\n",
      "P(Sports|Text): 0.0008329862557267803\n",
      "Prediction for test data: Not sports\n"
     ]
    }
   ],
   "source": [
    "import pandas as pd\n",
    "import re\n",
    "\n",
    "# Sample dataset from the image\n",
    "data = {\n",
    "    'Text': [\"A great game\", \"The election was over\", \"Very clean match\", \n",
    "             \"A clean but forgettable game\", \"It was a close election\"],\n",
    "    'Tag': [\"Sports\", \"Not sports\", \"Sports\", \"Sports\", \"Not sports\"]\n",
    "}\n",
    "\n",
    "# Convert data to a pandas DataFrame\n",
    "df = pd.DataFrame(data)\n",
    "\n",
    "# Function to preprocess the text (lowercase, remove non-alphanumeric characters)\n",
    "def preprocess(text):\n",
    "    text = text.lower()\n",
    "    text = re.sub(r'\\W+', ' ', text)  # Remove non-alphanumeric characters\n",
    "    return text\n",
    "\n",
    "# Simplified Naive Bayes function for a single prediction\n",
    "def naive_bayes_predict(test_example):\n",
    "    # Calculate prior probabilities\n",
    "    total = len(df)\n",
    "    sports_count = len(df[df['Tag'] == 'Sports'])\n",
    "    not_sports_count = len(df[df['Tag'] == 'Not sports'])\n",
    "    \n",
    "    P_sports = sports_count / total\n",
    "    P_not_sports = not_sports_count / total\n",
    "\n",
    "    # Preprocess the test example\n",
    "    test_words = preprocess(test_example).split()\n",
    "\n",
    "    # Calculate likelihoods for each word given 'Sports' and 'Not sports'\n",
    "    P_words_given_sports = 1\n",
    "    P_words_given_not_sports = 1\n",
    "\n",
    "    for word in test_words:\n",
    "        P_word_sports = len(df[(df['Text'].str.contains(word)) & (df['Tag'] == 'Sports')]) / sports_count\n",
    "        P_word_not_sports = len(df[(df['Text'].str.contains(word)) & (df['Tag'] == 'Not sports')]) / not_sports_count\n",
    "\n",
    "        # Add-1 smoothing to avoid zero probabilities\n",
    "        P_words_given_sports *= (P_word_sports + 1) / (sports_count + len(test_words))\n",
    "        P_words_given_not_sports *= (P_word_not_sports + 1) / (not_sports_count + len(test_words))\n",
    "\n",
    "    # Calculate posterior probabilities\n",
    "    P_sports_given_text = P_sports * P_words_given_sports\n",
    "    P_not_sports_given_text = P_not_sports * P_words_given_not_sports\n",
    "\n",
    "    # Predict the class with the higher posterior probability\n",
    "    print(\"P(Not sports|Text):\", P_not_sports_given_text)\n",
    "    print(\"P(Sports|Text):\", P_sports_given_text)\n",
    "    if P_sports_given_text > P_not_sports_given_text:\n",
    "        return \"Sports\"\n",
    "    else:\n",
    "        return \"Not sports\"\n",
    "\n",
    "# Test example to predict\n",
    "test_example = \"A very close game\"\n",
    "\n",
    "# Prediction\n",
    "prediction = naive_bayes_predict(test_example)\n",
    "print(\"Prediction for test data:\", prediction)\n"
   ]
  }
 ],
 "metadata": {
  "kernelspec": {
   "display_name": "Python 3 (ipykernel)",
   "language": "python",
   "name": "python3"
  },
  "language_info": {
   "codemirror_mode": {
    "name": "ipython",
    "version": 3
   },
   "file_extension": ".py",
   "mimetype": "text/x-python",
   "name": "python",
   "nbconvert_exporter": "python",
   "pygments_lexer": "ipython3",
   "version": "3.11.8"
  }
 },
 "nbformat": 4,
 "nbformat_minor": 5
}
